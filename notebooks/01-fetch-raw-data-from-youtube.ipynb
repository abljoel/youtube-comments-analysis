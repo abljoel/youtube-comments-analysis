{
 "cells": [
  {
   "cell_type": "markdown",
   "metadata": {},
   "source": [
    "# Fetch Raw Data From Youtube"
   ]
  },
  {
   "cell_type": "code",
   "execution_count": 2,
   "metadata": {},
   "outputs": [],
   "source": [
    "# Helper libraries\n",
    "import warnings\n",
    "\n",
    "# Scientific and visual libraries\n",
    "import pandas as pd\n",
    "import googleapiclient.errors\n",
    "\n",
    "%load_ext autoreload\n",
    "%autoreload 2\n",
    "%config InlineBackend.figure_format = 'retina'\n",
    "\n",
    "# Various settings\n",
    "warnings.filterwarnings(\"ignore\")\n",
    "pd.set_option(\"display.max_rows\", 120)\n",
    "pd.set_option(\"display.max_colwidth\", 40)\n",
    "pd.set_option(\"display.precision\", 4)\n",
    "pd.set_option(\"display.max_columns\", None)"
   ]
  },
  {
   "cell_type": "code",
   "execution_count": 3,
   "metadata": {},
   "outputs": [],
   "source": [
    "# Let's define a simple ETL process\n",
    "\n",
    "from youtube_analysis.data import fetch_youtube_comments\n",
    "import youtube_analysis.config as config\n",
    "\n",
    "\n",
    "def fetch_batch_data_from_video(id, limit=3000):\n",
    "    api_service_name = \"youtube\"\n",
    "    api_version = \"v3\"\n",
    "    api_key = config.YOUTUBE_API_KEY\n",
    "    try:\n",
    "        ytb_df = pd.DataFrame(\n",
    "            fetch_youtube_comments(\n",
    "                \"snippet\", id, limit, api_service_name, api_version, api_key\n",
    "            ),\n",
    "            columns=[\"author\", \"published_at\", \"updated_at\", \"likes\", \"text\"],\n",
    "        )\n",
    "    except googleapiclient.errors.HttpError as e:\n",
    "        print(f\"Error {e.resp.status} occurred while fetching data:\\n{e.content}\")\n",
    "    return ytb_df"
   ]
  },
  {
   "cell_type": "code",
   "execution_count": 4,
   "metadata": {},
   "outputs": [],
   "source": [
    "lex_comments = fetch_batch_data_from_video(id=\"NXU_M4030nE\")"
   ]
  },
  {
   "cell_type": "code",
   "execution_count": 5,
   "metadata": {},
   "outputs": [
    {
     "data": {
      "text/html": [
       "<div>\n",
       "<style scoped>\n",
       "    .dataframe tbody tr th:only-of-type {\n",
       "        vertical-align: middle;\n",
       "    }\n",
       "\n",
       "    .dataframe tbody tr th {\n",
       "        vertical-align: top;\n",
       "    }\n",
       "\n",
       "    .dataframe thead th {\n",
       "        text-align: right;\n",
       "    }\n",
       "</style>\n",
       "<table border=\"1\" class=\"dataframe\">\n",
       "  <thead>\n",
       "    <tr style=\"text-align: right;\">\n",
       "      <th></th>\n",
       "      <th>author</th>\n",
       "      <th>published_at</th>\n",
       "      <th>updated_at</th>\n",
       "      <th>likes</th>\n",
       "      <th>text</th>\n",
       "    </tr>\n",
       "  </thead>\n",
       "  <tbody>\n",
       "    <tr>\n",
       "      <th>0</th>\n",
       "      <td>Lex Fridman</td>\n",
       "      <td>2022-12-29T17:34:04Z</td>\n",
       "      <td>2022-12-29T17:34:04Z</td>\n",
       "      <td>194</td>\n",
       "      <td>Here are the timestamps. Please chec...</td>\n",
       "    </tr>\n",
       "    <tr>\n",
       "      <th>1</th>\n",
       "      <td>Steve C</td>\n",
       "      <td>2023-11-10T22:16:58Z</td>\n",
       "      <td>2023-11-10T22:16:58Z</td>\n",
       "      <td>0</td>\n",
       "      <td>😳The Plants are Fake…?</td>\n",
       "    </tr>\n",
       "    <tr>\n",
       "      <th>2</th>\n",
       "      <td>Brigid Mary Prain</td>\n",
       "      <td>2023-11-09T09:51:33Z</td>\n",
       "      <td>2023-11-09T09:51:33Z</td>\n",
       "      <td>0</td>\n",
       "      <td>Responding to your pushback on the p...</td>\n",
       "    </tr>\n",
       "    <tr>\n",
       "      <th>3</th>\n",
       "      <td>Jack Reacher</td>\n",
       "      <td>2023-11-04T09:30:38Z</td>\n",
       "      <td>2023-11-04T09:30:38Z</td>\n",
       "      <td>0</td>\n",
       "      <td>&lt;a href=\"https://www.youtube.com/wat...</td>\n",
       "    </tr>\n",
       "    <tr>\n",
       "      <th>4</th>\n",
       "      <td>Oskar Gudnason</td>\n",
       "      <td>2023-11-02T21:47:54Z</td>\n",
       "      <td>2023-11-03T12:18:47Z</td>\n",
       "      <td>0</td>\n",
       "      <td>Don´t you forget that the ape comes ...</td>\n",
       "    </tr>\n",
       "  </tbody>\n",
       "</table>\n",
       "</div>"
      ],
      "text/plain": [
       "              author          published_at            updated_at  likes  \\\n",
       "0        Lex Fridman  2022-12-29T17:34:04Z  2022-12-29T17:34:04Z    194   \n",
       "1            Steve C  2023-11-10T22:16:58Z  2023-11-10T22:16:58Z      0   \n",
       "2  Brigid Mary Prain  2023-11-09T09:51:33Z  2023-11-09T09:51:33Z      0   \n",
       "3       Jack Reacher  2023-11-04T09:30:38Z  2023-11-04T09:30:38Z      0   \n",
       "4     Oskar Gudnason  2023-11-02T21:47:54Z  2023-11-03T12:18:47Z      0   \n",
       "\n",
       "                                      text  \n",
       "0  Here are the timestamps. Please chec...  \n",
       "1                   😳The Plants are Fake…?  \n",
       "2  Responding to your pushback on the p...  \n",
       "3  <a href=\"https://www.youtube.com/wat...  \n",
       "4  Don´t you forget that the ape comes ...  "
      ]
     },
     "execution_count": 5,
     "metadata": {},
     "output_type": "execute_result"
    }
   ],
   "source": [
    "lex_comments.head()"
   ]
  },
  {
   "cell_type": "code",
   "execution_count": 6,
   "metadata": {},
   "outputs": [],
   "source": [
    "from youtube_analysis.paths import RAW_DATA_DIR\n",
    "\n",
    "lex_comments.to_pickle(RAW_DATA_DIR / \"lex_comments.pkl\")"
   ]
  },
  {
   "cell_type": "code",
   "execution_count": null,
   "metadata": {},
   "outputs": [],
   "source": []
  },
  {
   "cell_type": "code",
   "execution_count": null,
   "metadata": {},
   "outputs": [],
   "source": []
  }
 ],
 "metadata": {
  "kernelspec": {
   "display_name": "Python 3 (ipykernel)",
   "language": "python",
   "name": "python3"
  },
  "language_info": {
   "codemirror_mode": {
    "name": "ipython",
    "version": 3
   },
   "file_extension": ".py",
   "mimetype": "text/x-python",
   "name": "python",
   "nbconvert_exporter": "python",
   "pygments_lexer": "ipython3",
   "version": "3.11.6"
  }
 },
 "nbformat": 4,
 "nbformat_minor": 4
}
