{
 "cells": [
  {
   "cell_type": "markdown",
   "metadata": {},
   "source": [
    "# Comments Sentiment Analysis"
   ]
  },
  {
   "cell_type": "code",
   "execution_count": 1,
   "metadata": {},
   "outputs": [],
   "source": [
    "# Helper libraries\n",
    "import warnings\n",
    "\n",
    "# Scientific and visual libraries\n",
    "import pandas as pd\n",
    "import matplotlib.pyplot as plt\n",
    "import seaborn as sns\n",
    "from emot import UNICODE_EMOJI, EMOTICONS_EMO\n",
    "from nltk.tokenize import word_tokenize\n",
    "from nltk.corpus import stopwords\n",
    "from nltk.sentiment.vader import SentimentIntensityAnalyzer\n",
    "\n",
    "# Local Modules\n",
    "from youtube_analysis.paths import TRANSFORMED_DATA_DIR\n",
    "from youtube_analysis.cleanutils import translate_emojis, translate_emoticons\n",
    "from youtube_analysis.edautils import plot_pie\n",
    "\n",
    "%load_ext autoreload\n",
    "%autoreload 2\n",
    "\n",
    "%matplotlib inline\n",
    "%config InlineBackend.figure_format = 'retina'\n",
    "\n",
    "# Various settings\n",
    "warnings.filterwarnings(\"ignore\")\n",
    "pd.set_option(\"display.max_rows\", 120)\n",
    "pd.set_option(\"display.max_colwidth\", 40)\n",
    "pd.set_option(\"display.precision\", 4)\n",
    "pd.set_option(\"display.max_columns\", None)"
   ]
  },
  {
   "cell_type": "code",
   "execution_count": 2,
   "metadata": {},
   "outputs": [],
   "source": [
    "# We will use unsupervised method for that because labeling\n",
    "# all comments will be time-consuming and challeging.\n",
    "# For that, we can use a rule-based method: VADER.\n",
    "# The result may not be as accurate as expected since the valence dictionary \n",
    "# is not context-specific in VADER."
   ]
  },
  {
   "cell_type": "code",
   "execution_count": 3,
   "metadata": {},
   "outputs": [],
   "source": [
    "corpus = pd.read_pickle(TRANSFORMED_DATA_DIR / \"processed_corpus.pkl\")"
   ]
  },
  {
   "cell_type": "markdown",
   "metadata": {},
   "source": [
    "### Unsupervised Sentiment Analyse"
   ]
  },
  {
   "cell_type": "code",
   "execution_count": 4,
   "metadata": {},
   "outputs": [],
   "source": [
    "# We will create 2 functions:\n",
    "# one for labeling\n",
    "# one for scoring\n",
    "\n",
    "sent_analyzer = SentimentIntensityAnalyzer()\n",
    "\n",
    "\n",
    "def get_sent_label(text=\"\", score=None):\n",
    "    if not score:\n",
    "        score = sent_analyzer.polarity_scores(text)[\"compound\"]\n",
    "    if 0.4 < score:\n",
    "        return \"positive\"\n",
    "    if -0.1 < score <= 0.4:\n",
    "        return \"neutral\"\n",
    "    return \"negative\"\n",
    "\n",
    "\n",
    "def get_sent_score(text):\n",
    "    score = sent_analyzer.polarity_scores(text)[\"compound\"]\n",
    "    return score"
   ]
  },
  {
   "cell_type": "code",
   "execution_count": 5,
   "metadata": {},
   "outputs": [],
   "source": [
    "corpus[\"sent_class\"] = corpus.cleaned_text.apply(lambda t: get_sent_label(t))\n",
    "corpus[\"sent_score\"] = corpus.cleaned_text.apply(lambda t: get_sent_score(t))"
   ]
  },
  {
   "cell_type": "code",
   "execution_count": 6,
   "metadata": {},
   "outputs": [
    {
     "data": {
      "text/html": [
       "<div>\n",
       "<style scoped>\n",
       "    .dataframe tbody tr th:only-of-type {\n",
       "        vertical-align: middle;\n",
       "    }\n",
       "\n",
       "    .dataframe tbody tr th {\n",
       "        vertical-align: top;\n",
       "    }\n",
       "\n",
       "    .dataframe thead th {\n",
       "        text-align: right;\n",
       "    }\n",
       "</style>\n",
       "<table border=\"1\" class=\"dataframe\">\n",
       "  <thead>\n",
       "    <tr style=\"text-align: right;\">\n",
       "      <th></th>\n",
       "      <th>author</th>\n",
       "      <th>published_at</th>\n",
       "      <th>updated_at</th>\n",
       "      <th>likes</th>\n",
       "      <th>text</th>\n",
       "      <th>cleaned_text</th>\n",
       "      <th>filtered_text</th>\n",
       "      <th>lemmatized_text</th>\n",
       "      <th>sent_class</th>\n",
       "      <th>sent_score</th>\n",
       "    </tr>\n",
       "  </thead>\n",
       "  <tbody>\n",
       "    <tr>\n",
       "      <th>0</th>\n",
       "      <td>Lex Fridman</td>\n",
       "      <td>2022-12-29 17:34:04+00:00</td>\n",
       "      <td>2022-12-29 17:34:04+00:00</td>\n",
       "      <td>194</td>\n",
       "      <td>Here are the timestamps. Please chec...</td>\n",
       "      <td>here are the timestamps   please che...</td>\n",
       "      <td>timestamps please check sponsors sup...</td>\n",
       "      <td>timestamps please check sponsor supp...</td>\n",
       "      <td>positive</td>\n",
       "      <td>0.9922</td>\n",
       "    </tr>\n",
       "    <tr>\n",
       "      <th>1</th>\n",
       "      <td>Steve C</td>\n",
       "      <td>2023-11-10 22:16:58+00:00</td>\n",
       "      <td>2023-11-10 22:16:58+00:00</td>\n",
       "      <td>0</td>\n",
       "      <td>😳The Plants are Fake…?</td>\n",
       "      <td>the plants are fake</td>\n",
       "      <td>plants fake</td>\n",
       "      <td>plant fake</td>\n",
       "      <td>negative</td>\n",
       "      <td>-0.4767</td>\n",
       "    </tr>\n",
       "    <tr>\n",
       "      <th>2</th>\n",
       "      <td>Brigid Mary Prain</td>\n",
       "      <td>2023-11-09 09:51:33+00:00</td>\n",
       "      <td>2023-11-09 09:51:33+00:00</td>\n",
       "      <td>0</td>\n",
       "      <td>Responding to your pushback on the p...</td>\n",
       "      <td>responding to your pushback on the p...</td>\n",
       "      <td>responding pushback pushback circa i...</td>\n",
       "      <td>responding pushback pushback circa i...</td>\n",
       "      <td>positive</td>\n",
       "      <td>0.5859</td>\n",
       "    </tr>\n",
       "    <tr>\n",
       "      <th>3</th>\n",
       "      <td>Jack Reacher</td>\n",
       "      <td>2023-11-04 09:30:38+00:00</td>\n",
       "      <td>2023-11-04 09:30:38+00:00</td>\n",
       "      <td>0</td>\n",
       "      <td>&lt;a href=\"https://www.youtube.com/wat...</td>\n",
       "      <td>happy face smiley         brutal...</td>\n",
       "      <td>happy face smiley brutal facts plane...</td>\n",
       "      <td>happy face smiley brutal fact planet...</td>\n",
       "      <td>positive</td>\n",
       "      <td>0.6705</td>\n",
       "    </tr>\n",
       "    <tr>\n",
       "      <th>4</th>\n",
       "      <td>Oskar Gudnason</td>\n",
       "      <td>2023-11-02 21:47:54+00:00</td>\n",
       "      <td>2023-11-03 12:18:47+00:00</td>\n",
       "      <td>0</td>\n",
       "      <td>Don´t you forget that the ape comes ...</td>\n",
       "      <td>don t you forget that the ape comes ...</td>\n",
       "      <td>forget ape comes also earth returns ...</td>\n",
       "      <td>forget ape come also earth return ea...</td>\n",
       "      <td>positive</td>\n",
       "      <td>0.7512</td>\n",
       "    </tr>\n",
       "  </tbody>\n",
       "</table>\n",
       "</div>"
      ],
      "text/plain": [
       "              author              published_at                updated_at  \\\n",
       "0        Lex Fridman 2022-12-29 17:34:04+00:00 2022-12-29 17:34:04+00:00   \n",
       "1            Steve C 2023-11-10 22:16:58+00:00 2023-11-10 22:16:58+00:00   \n",
       "2  Brigid Mary Prain 2023-11-09 09:51:33+00:00 2023-11-09 09:51:33+00:00   \n",
       "3       Jack Reacher 2023-11-04 09:30:38+00:00 2023-11-04 09:30:38+00:00   \n",
       "4     Oskar Gudnason 2023-11-02 21:47:54+00:00 2023-11-03 12:18:47+00:00   \n",
       "\n",
       "   likes                                     text  \\\n",
       "0    194  Here are the timestamps. Please chec...   \n",
       "1      0                   😳The Plants are Fake…?   \n",
       "2      0  Responding to your pushback on the p...   \n",
       "3      0  <a href=\"https://www.youtube.com/wat...   \n",
       "4      0  Don´t you forget that the ape comes ...   \n",
       "\n",
       "                              cleaned_text  \\\n",
       "0  here are the timestamps   please che...   \n",
       "1                   the plants are fake      \n",
       "2  responding to your pushback on the p...   \n",
       "3      happy face smiley         brutal...   \n",
       "4  don t you forget that the ape comes ...   \n",
       "\n",
       "                             filtered_text  \\\n",
       "0  timestamps please check sponsors sup...   \n",
       "1                              plants fake   \n",
       "2  responding pushback pushback circa i...   \n",
       "3  happy face smiley brutal facts plane...   \n",
       "4  forget ape comes also earth returns ...   \n",
       "\n",
       "                           lemmatized_text sent_class  sent_score  \n",
       "0  timestamps please check sponsor supp...   positive      0.9922  \n",
       "1                               plant fake   negative     -0.4767  \n",
       "2  responding pushback pushback circa i...   positive      0.5859  \n",
       "3  happy face smiley brutal fact planet...   positive      0.6705  \n",
       "4  forget ape come also earth return ea...   positive      0.7512  "
      ]
     },
     "execution_count": 6,
     "metadata": {},
     "output_type": "execute_result"
    }
   ],
   "source": [
    "corpus.head()"
   ]
  },
  {
   "cell_type": "code",
   "execution_count": 7,
   "metadata": {},
   "outputs": [
    {
     "data": {
      "text/plain": [
       "'neutral'"
      ]
     },
     "execution_count": 7,
     "metadata": {},
     "output_type": "execute_result"
    }
   ],
   "source": [
    "# Contrary to what has been said about VADER\n",
    "# It can't classify directly emojis:\n",
    "get_sent_label(\"😍\")"
   ]
  },
  {
   "cell_type": "code",
   "execution_count": 8,
   "metadata": {},
   "outputs": [
    {
     "data": {
      "text/plain": [
       "'positive'"
      ]
     },
     "execution_count": 8,
     "metadata": {},
     "output_type": "execute_result"
    }
   ],
   "source": [
    "get_sent_label(translate_emojis(\"😍\"))"
   ]
  },
  {
   "cell_type": "markdown",
   "metadata": {},
   "source": [
    "### Ratio of Sentiments in Comments"
   ]
  },
  {
   "cell_type": "code",
   "execution_count": 10,
   "metadata": {},
   "outputs": [
    {
     "data": {
      "image/png": "[encoded data removed]",
      "text/plain": [
       "<Figure size 640x480 with 1 Axes>"
      ]
     },
     "metadata": {
      "image/png": {
       "height": 410,
       "width": 434
      }
     },
     "output_type": "display_data"
    }
   ],
   "source": [
    "plt.title(\"Sentiment Ratio in Youtube Comments\")\n",
    "plot_pie(corpus, \"sent_class\")"
   ]
  },
  {
   "cell_type": "code",
   "execution_count": null,
   "metadata": {},
   "outputs": [],
   "source": [
    "corpus.to_pickle(TRANSFORMED_DATA_DIR / \"sentiment_corpus.pkl\")"
   ]
  },
  {
   "cell_type": "code",
   "execution_count": null,
   "metadata": {},
   "outputs": [],
   "source": []
  }
 ],
 "metadata": {
  "kernelspec": {
   "display_name": "Python 3 (ipykernel)",
   "language": "python",
   "name": "python3"
  },
  "language_info": {
   "codemirror_mode": {
    "name": "ipython",
    "version": 3
   },
   "file_extension": ".py",
   "mimetype": "text/x-python",
   "name": "python",
   "nbconvert_exporter": "python",
   "pygments_lexer": "ipython3",
   "version": "3.11.6"
  }
 },
 "nbformat": 4,
 "nbformat_minor": 4
}
